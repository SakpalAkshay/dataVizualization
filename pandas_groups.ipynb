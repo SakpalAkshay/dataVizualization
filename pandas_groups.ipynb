{
 "cells": [
  {
   "cell_type": "markdown",
   "id": "48ffb500",
   "metadata": {},
   "source": [
    "# Using Groups in Pandas (Group By)"
   ]
  },
  {
   "cell_type": "markdown",
   "id": "b5316975",
   "metadata": {},
   "source": [
    "### Group by is nothing but Split, Apply and Combine"
   ]
  },
  {
   "cell_type": "code",
   "execution_count": 1,
   "id": "f2e4e931",
   "metadata": {},
   "outputs": [],
   "source": [
    "#lets say max score of any user id\n",
    "import pandas as pd\n",
    "df = pd.read_csv('/Users/csuftitan/Downloads/Pandas/amazon_reviews.csv')"
   ]
  },
  {
   "cell_type": "code",
   "execution_count": 2,
   "id": "6617cbd1",
   "metadata": {},
   "outputs": [
    {
     "data": {
      "text/html": [
       "<div>\n",
       "<style scoped>\n",
       "    .dataframe tbody tr th:only-of-type {\n",
       "        vertical-align: middle;\n",
       "    }\n",
       "\n",
       "    .dataframe tbody tr th {\n",
       "        vertical-align: top;\n",
       "    }\n",
       "\n",
       "    .dataframe thead th {\n",
       "        text-align: right;\n",
       "    }\n",
       "</style>\n",
       "<table border=\"1\" class=\"dataframe\">\n",
       "  <thead>\n",
       "    <tr style=\"text-align: right;\">\n",
       "      <th></th>\n",
       "      <th>Id</th>\n",
       "      <th>ProductId</th>\n",
       "      <th>UserId</th>\n",
       "      <th>ProfileName</th>\n",
       "      <th>HelpfulnessNumerator</th>\n",
       "      <th>HelpfulnessDenominator</th>\n",
       "      <th>Score</th>\n",
       "      <th>Time</th>\n",
       "      <th>Summary</th>\n",
       "      <th>Text</th>\n",
       "    </tr>\n",
       "  </thead>\n",
       "  <tbody>\n",
       "    <tr>\n",
       "      <th>0</th>\n",
       "      <td>59033</td>\n",
       "      <td>B002HQLY7S</td>\n",
       "      <td>AR89H8T4PVWSL</td>\n",
       "      <td>rumbull01</td>\n",
       "      <td>NaN</td>\n",
       "      <td>0.0</td>\n",
       "      <td>5.0</td>\n",
       "      <td>1320192000</td>\n",
       "      <td>Awesome coffee</td>\n",
       "      <td>Purchasing this coffee was definatly worth it!...</td>\n",
       "    </tr>\n",
       "    <tr>\n",
       "      <th>1</th>\n",
       "      <td>514838</td>\n",
       "      <td>B007IVEP8C</td>\n",
       "      <td>A15VHPHU0V8GOH</td>\n",
       "      <td>Judith A. Weller \"jw1917\"</td>\n",
       "      <td>0.0</td>\n",
       "      <td>0.0</td>\n",
       "      <td>1.0</td>\n",
       "      <td>1345766400</td>\n",
       "      <td>Like Sugar Syrup</td>\n",
       "      <td>This has to be the worst product trying to pas...</td>\n",
       "    </tr>\n",
       "    <tr>\n",
       "      <th>2</th>\n",
       "      <td>419751</td>\n",
       "      <td>B0029ZAOW8</td>\n",
       "      <td>A3CG7K9OQ5M0RI</td>\n",
       "      <td>reviewer</td>\n",
       "      <td>2.0</td>\n",
       "      <td>2.0</td>\n",
       "      <td>5.0</td>\n",
       "      <td>1278633600</td>\n",
       "      <td>Reviewer</td>\n",
       "      <td>Can't rate this stuff highly enough, does as a...</td>\n",
       "    </tr>\n",
       "  </tbody>\n",
       "</table>\n",
       "</div>"
      ],
      "text/plain": [
       "       Id   ProductId          UserId                ProfileName  \\\n",
       "0   59033  B002HQLY7S   AR89H8T4PVWSL                  rumbull01   \n",
       "1  514838  B007IVEP8C  A15VHPHU0V8GOH  Judith A. Weller \"jw1917\"   \n",
       "2  419751  B0029ZAOW8  A3CG7K9OQ5M0RI                   reviewer   \n",
       "\n",
       "   HelpfulnessNumerator  HelpfulnessDenominator  Score        Time  \\\n",
       "0                   NaN                     0.0    5.0  1320192000   \n",
       "1                   0.0                     0.0    1.0  1345766400   \n",
       "2                   2.0                     2.0    5.0  1278633600   \n",
       "\n",
       "            Summary                                               Text  \n",
       "0    Awesome coffee  Purchasing this coffee was definatly worth it!...  \n",
       "1  Like Sugar Syrup  This has to be the worst product trying to pas...  \n",
       "2          Reviewer  Can't rate this stuff highly enough, does as a...  "
      ]
     },
     "execution_count": 2,
     "metadata": {},
     "output_type": "execute_result"
    }
   ],
   "source": [
    "df.head(3)"
   ]
  },
  {
   "cell_type": "code",
   "execution_count": 3,
   "id": "2add392f",
   "metadata": {},
   "outputs": [
    {
     "data": {
      "text/plain": [
       "UserId\n",
       "#oc-RXFX0AFFBDSJN    5.0\n",
       "A100WO06OQR8BQ       5.0\n",
       "A104M4DKQ96IT0       1.0\n",
       "A1088P38KHFI9B       5.0\n",
       "A10G8ZYR2RVVAE       1.0\n",
       "                    ... \n",
       "AZDYF8AXM2GYG        5.0\n",
       "AZLNNFQ88C9E7        1.0\n",
       "AZPOFLFAWXON         5.0\n",
       "AZQZ45Q9U1GNS        5.0\n",
       "AZR55JSEMWB76        4.0\n",
       "Name: Score, Length: 991, dtype: float64"
      ]
     },
     "execution_count": 3,
     "metadata": {},
     "output_type": "execute_result"
    }
   ],
   "source": [
    "df.groupby(['UserId'])['Score'].max()"
   ]
  },
  {
   "cell_type": "markdown",
   "id": "fb5e80e7",
   "metadata": {},
   "source": [
    "# Ploting in Pandas (Line, Bargraph and Pie Chart)"
   ]
  },
  {
   "cell_type": "code",
   "execution_count": 10,
   "id": "782bfcdd",
   "metadata": {},
   "outputs": [
    {
     "data": {
      "text/plain": [
       "5.0    649\n",
       "4.0    136\n",
       "1.0     96\n",
       "3.0     64\n",
       "2.0     53\n",
       "Name: Score, dtype: int64"
      ]
     },
     "execution_count": 10,
     "metadata": {},
     "output_type": "execute_result"
    }
   ],
   "source": [
    "df['Score'].value_counts()"
   ]
  },
  {
   "cell_type": "code",
   "execution_count": 12,
   "id": "0f5e94cc",
   "metadata": {},
   "outputs": [
    {
     "data": {
      "text/plain": [
       "<AxesSubplot:>"
      ]
     },
     "execution_count": 12,
     "metadata": {},
     "output_type": "execute_result"
    },
    {
     "data": {
      "image/png": "[encoded data removed]",
      "text/plain": [
       "<Figure size 640x480 with 1 Axes>"
      ]
     },
     "metadata": {},
     "output_type": "display_data"
    }
   ],
   "source": [
    "df['Score'].value_counts().plot(kind=\"line\")"
   ]
  },
  {
   "cell_type": "code",
   "execution_count": 13,
   "id": "fc4cc975",
   "metadata": {},
   "outputs": [
    {
     "data": {
      "text/plain": [
       "<AxesSubplot:ylabel='Score'>"
      ]
     },
     "execution_count": 13,
     "metadata": {},
     "output_type": "execute_result"
    },
    {
     "data": {
      "image/png": "[encoded data removed]",
      "text/plain": [
       "<Figure size 640x480 with 1 Axes>"
      ]
     },
     "metadata": {},
     "output_type": "display_data"
    }
   ],
   "source": [
    "df['Score'].value_counts().plot(kind=\"pie\")"
   ]
  },
  {
   "cell_type": "code",
   "execution_count": 16,
   "id": "c03d9e09",
   "metadata": {},
   "outputs": [
    {
     "data": {
      "text/plain": [
       "<AxesSubplot:>"
      ]
     },
     "execution_count": 16,
     "metadata": {},
     "output_type": "execute_result"
    },
    {
     "data": {
      "image/png": "[encoded data removed]",
      "text/plain": [
       "<Figure size 640x480 with 1 Axes>"
      ]
     },
     "metadata": {},
     "output_type": "display_data"
    }
   ],
   "source": [
    "df['Score'].value_counts().plot(kind=\"bar\")"
   ]
  },
  {
   "cell_type": "code",
   "execution_count": null,
   "id": "fa8a7697",
   "metadata": {},
   "outputs": [],
   "source": []
  }
 ],
 "metadata": {
  "kernelspec": {
   "display_name": "Python 3 (ipykernel)",
   "language": "python",
   "name": "python3"
  },
  "language_info": {
   "codemirror_mode": {
    "name": "ipython",
    "version": 3
   },
   "file_extension": ".py",
   "mimetype": "text/x-python",
   "name": "python",
   "nbconvert_exporter": "python",
   "pygments_lexer": "ipython3",
   "version": "3.9.13"
  }
 },
 "nbformat": 4,
 "nbformat_minor": 5
}
