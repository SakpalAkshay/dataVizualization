{
 "cells": [
  {
   "cell_type": "markdown",
   "id": "4f027653",
   "metadata": {},
   "source": [
    "# How to Read data using Pandas\n"
   ]
  },
  {
   "cell_type": "code",
   "execution_count": 1,
   "id": "dc38d317",
   "metadata": {},
   "outputs": [],
   "source": [
    "#Pandas helps you read data very easily and efficiently\n",
    "import pandas as pd"
   ]
  },
  {
   "cell_type": "code",
   "execution_count": 4,
   "id": "20224b69",
   "metadata": {},
   "outputs": [],
   "source": [
    "#Windows uses forward '\\' and unix and mac uses backward slash\n",
    "df = pd.read_csv(r'/Users/csuftitan/Downloads/Pandas/amazon_reviews.csv')\n",
    "#r converted this path to raw string so we wont get error due to forward \\ or backward / slash\n",
    "\n"
   ]
  },
  {
   "cell_type": "markdown",
   "id": "9545c5f0",
   "metadata": {},
   "source": [
    "## Different data structures in Pandas"
   ]
  },
  {
   "cell_type": "markdown",
   "id": "6224854c",
   "metadata": {},
   "source": [
    "### Series"
   ]
  },
  {
   "cell_type": "markdown",
   "id": "3a9d3bac",
   "metadata": {},
   "source": [
    "These are like 1 Dimensional data just like list. Here in our table each row or each coulmn can be individually considered as a Series"
   ]
  },
  {
   "cell_type": "code",
   "execution_count": 7,
   "id": "644e1b17",
   "metadata": {},
   "outputs": [
    {
     "name": "stdout",
     "output_type": "stream",
     "text": [
      "0       59033\n",
      "1      514838\n",
      "2      419751\n",
      "3         870\n",
      "4      282582\n",
      "        ...  \n",
      "995     65930\n",
      "996    465157\n",
      "997    393049\n",
      "998     79165\n",
      "999    430883\n",
      "Name: Id, Length: 1000, dtype: int64\n"
     ]
    },
    {
     "data": {
      "text/plain": [
       "pandas.core.series.Series"
      ]
     },
     "execution_count": 7,
     "metadata": {},
     "output_type": "execute_result"
    }
   ],
   "source": [
    "print(df['Id']) #dtype means data type \n",
    "type(df['Id'])"
   ]
  },
  {
   "cell_type": "markdown",
   "id": "a68e83ca",
   "metadata": {},
   "source": [
    "### DataFrame"
   ]
  },
  {
   "cell_type": "markdown",
   "id": "7d83760b",
   "metadata": {},
   "source": [
    "Are 2 dimensional data just like tables or a better example would be like Matrices. Dataframe is nothing but a sequence or collection of series."
   ]
  },
  {
   "cell_type": "code",
   "execution_count": 9,
   "id": "e21fda1b",
   "metadata": {
    "scrolled": true
   },
   "outputs": [
    {
     "data": {
      "text/html": [
       "<div>\n",
       "<style scoped>\n",
       "    .dataframe tbody tr th:only-of-type {\n",
       "        vertical-align: middle;\n",
       "    }\n",
       "\n",
       "    .dataframe tbody tr th {\n",
       "        vertical-align: top;\n",
       "    }\n",
       "\n",
       "    .dataframe thead th {\n",
       "        text-align: right;\n",
       "    }\n",
       "</style>\n",
       "<table border=\"1\" class=\"dataframe\">\n",
       "  <thead>\n",
       "    <tr style=\"text-align: right;\">\n",
       "      <th></th>\n",
       "      <th>Id</th>\n",
       "      <th>ProductId</th>\n",
       "      <th>UserId</th>\n",
       "      <th>ProfileName</th>\n",
       "      <th>HelpfulnessNumerator</th>\n",
       "      <th>HelpfulnessDenominator</th>\n",
       "      <th>Score</th>\n",
       "      <th>Time</th>\n",
       "      <th>Summary</th>\n",
       "      <th>Text</th>\n",
       "    </tr>\n",
       "  </thead>\n",
       "  <tbody>\n",
       "    <tr>\n",
       "      <th>0</th>\n",
       "      <td>59033</td>\n",
       "      <td>B002HQLY7S</td>\n",
       "      <td>AR89H8T4PVWSL</td>\n",
       "      <td>rumbull01</td>\n",
       "      <td>NaN</td>\n",
       "      <td>0.0</td>\n",
       "      <td>5.0</td>\n",
       "      <td>1320192000</td>\n",
       "      <td>Awesome coffee</td>\n",
       "      <td>Purchasing this coffee was definatly worth it!...</td>\n",
       "    </tr>\n",
       "    <tr>\n",
       "      <th>1</th>\n",
       "      <td>514838</td>\n",
       "      <td>B007IVEP8C</td>\n",
       "      <td>A15VHPHU0V8GOH</td>\n",
       "      <td>Judith A. Weller \"jw1917\"</td>\n",
       "      <td>0.0</td>\n",
       "      <td>0.0</td>\n",
       "      <td>1.0</td>\n",
       "      <td>1345766400</td>\n",
       "      <td>Like Sugar Syrup</td>\n",
       "      <td>This has to be the worst product trying to pas...</td>\n",
       "    </tr>\n",
       "    <tr>\n",
       "      <th>2</th>\n",
       "      <td>419751</td>\n",
       "      <td>B0029ZAOW8</td>\n",
       "      <td>A3CG7K9OQ5M0RI</td>\n",
       "      <td>reviewer</td>\n",
       "      <td>2.0</td>\n",
       "      <td>2.0</td>\n",
       "      <td>5.0</td>\n",
       "      <td>1278633600</td>\n",
       "      <td>Reviewer</td>\n",
       "      <td>Can't rate this stuff highly enough, does as a...</td>\n",
       "    </tr>\n",
       "    <tr>\n",
       "      <th>3</th>\n",
       "      <td>870</td>\n",
       "      <td>B000VKYKTG</td>\n",
       "      <td>A1C1Y0S6QPBM4W</td>\n",
       "      <td>R. Dzuris</td>\n",
       "      <td>0.0</td>\n",
       "      <td>0.0</td>\n",
       "      <td>5.0</td>\n",
       "      <td>1231286400</td>\n",
       "      <td>Great Buy</td>\n",
       "      <td>These where great couldnt stop eating them.&lt;br...</td>\n",
       "    </tr>\n",
       "    <tr>\n",
       "      <th>4</th>\n",
       "      <td>282582</td>\n",
       "      <td>B001EO5WZ4</td>\n",
       "      <td>A2MERSI1KHYIQB</td>\n",
       "      <td>Kathy D. FERRELL \"Kat\"</td>\n",
       "      <td>0.0</td>\n",
       "      <td>0.0</td>\n",
       "      <td>1.0</td>\n",
       "      <td>1325894400</td>\n",
       "      <td>Tastes Horrible!!!</td>\n",
       "      <td>Thank god amazon gave me my money back and I o...</td>\n",
       "    </tr>\n",
       "    <tr>\n",
       "      <th>...</th>\n",
       "      <td>...</td>\n",
       "      <td>...</td>\n",
       "      <td>...</td>\n",
       "      <td>...</td>\n",
       "      <td>...</td>\n",
       "      <td>...</td>\n",
       "      <td>...</td>\n",
       "      <td>...</td>\n",
       "      <td>...</td>\n",
       "      <td>...</td>\n",
       "    </tr>\n",
       "    <tr>\n",
       "      <th>995</th>\n",
       "      <td>65930</td>\n",
       "      <td>B0007A0AQW</td>\n",
       "      <td>A2NJSEH07UD6M8</td>\n",
       "      <td>Payton</td>\n",
       "      <td>0.0</td>\n",
       "      <td>0.0</td>\n",
       "      <td>5.0</td>\n",
       "      <td>1319932800</td>\n",
       "      <td>Payton LOVES these!</td>\n",
       "      <td>My lil pup loves his treats! Recently when I w...</td>\n",
       "    </tr>\n",
       "    <tr>\n",
       "      <th>996</th>\n",
       "      <td>465157</td>\n",
       "      <td>B0019H0YZ4</td>\n",
       "      <td>ARRVAYRLATRE5</td>\n",
       "      <td>JK</td>\n",
       "      <td>1.0</td>\n",
       "      <td>2.0</td>\n",
       "      <td>5.0</td>\n",
       "      <td>1329350400</td>\n",
       "      <td>I'm sticking with them</td>\n",
       "      <td>Like many parents, I was shocked to hear today...</td>\n",
       "    </tr>\n",
       "    <tr>\n",
       "      <th>997</th>\n",
       "      <td>393049</td>\n",
       "      <td>B003VXL0V6</td>\n",
       "      <td>A2TIGI9VK33WPQ</td>\n",
       "      <td>hazeleyesjudi</td>\n",
       "      <td>0.0</td>\n",
       "      <td>0.0</td>\n",
       "      <td>5.0</td>\n",
       "      <td>1306281600</td>\n",
       "      <td>One of my favorites!</td>\n",
       "      <td>I have had all of the various Keurigs since th...</td>\n",
       "    </tr>\n",
       "    <tr>\n",
       "      <th>998</th>\n",
       "      <td>79165</td>\n",
       "      <td>B0046HCH5Y</td>\n",
       "      <td>A127NYPMASKWFS</td>\n",
       "      <td>Axis \"Freelance Media Designer\"</td>\n",
       "      <td>0.0</td>\n",
       "      <td>0.0</td>\n",
       "      <td>5.0</td>\n",
       "      <td>1339113600</td>\n",
       "      <td>Delicious and diet-friendly!</td>\n",
       "      <td>I've tried every flavor of Betty Lou's Gluten ...</td>\n",
       "    </tr>\n",
       "    <tr>\n",
       "      <th>999</th>\n",
       "      <td>430883</td>\n",
       "      <td>B001EQ4ZTG</td>\n",
       "      <td>A2A2BPPJTYV4TU</td>\n",
       "      <td>J. Bayless</td>\n",
       "      <td>2.0</td>\n",
       "      <td>2.0</td>\n",
       "      <td>5.0</td>\n",
       "      <td>1264809600</td>\n",
       "      <td>my cats love this</td>\n",
       "      <td>My cats love this and the ones with sensitive ...</td>\n",
       "    </tr>\n",
       "  </tbody>\n",
       "</table>\n",
       "<p>1000 rows × 10 columns</p>\n",
       "</div>"
      ],
      "text/plain": [
       "         Id   ProductId          UserId                      ProfileName  \\\n",
       "0     59033  B002HQLY7S   AR89H8T4PVWSL                        rumbull01   \n",
       "1    514838  B007IVEP8C  A15VHPHU0V8GOH        Judith A. Weller \"jw1917\"   \n",
       "2    419751  B0029ZAOW8  A3CG7K9OQ5M0RI                         reviewer   \n",
       "3       870  B000VKYKTG  A1C1Y0S6QPBM4W                        R. Dzuris   \n",
       "4    282582  B001EO5WZ4  A2MERSI1KHYIQB           Kathy D. FERRELL \"Kat\"   \n",
       "..      ...         ...             ...                              ...   \n",
       "995   65930  B0007A0AQW  A2NJSEH07UD6M8                           Payton   \n",
       "996  465157  B0019H0YZ4   ARRVAYRLATRE5                               JK   \n",
       "997  393049  B003VXL0V6  A2TIGI9VK33WPQ                    hazeleyesjudi   \n",
       "998   79165  B0046HCH5Y  A127NYPMASKWFS  Axis \"Freelance Media Designer\"   \n",
       "999  430883  B001EQ4ZTG  A2A2BPPJTYV4TU                       J. Bayless   \n",
       "\n",
       "     HelpfulnessNumerator  HelpfulnessDenominator  Score        Time  \\\n",
       "0                     NaN                     0.0    5.0  1320192000   \n",
       "1                     0.0                     0.0    1.0  1345766400   \n",
       "2                     2.0                     2.0    5.0  1278633600   \n",
       "3                     0.0                     0.0    5.0  1231286400   \n",
       "4                     0.0                     0.0    1.0  1325894400   \n",
       "..                    ...                     ...    ...         ...   \n",
       "995                   0.0                     0.0    5.0  1319932800   \n",
       "996                   1.0                     2.0    5.0  1329350400   \n",
       "997                   0.0                     0.0    5.0  1306281600   \n",
       "998                   0.0                     0.0    5.0  1339113600   \n",
       "999                   2.0                     2.0    5.0  1264809600   \n",
       "\n",
       "                          Summary  \\\n",
       "0                  Awesome coffee   \n",
       "1                Like Sugar Syrup   \n",
       "2                        Reviewer   \n",
       "3                       Great Buy   \n",
       "4              Tastes Horrible!!!   \n",
       "..                            ...   \n",
       "995           Payton LOVES these!   \n",
       "996        I'm sticking with them   \n",
       "997          One of my favorites!   \n",
       "998  Delicious and diet-friendly!   \n",
       "999             my cats love this   \n",
       "\n",
       "                                                  Text  \n",
       "0    Purchasing this coffee was definatly worth it!...  \n",
       "1    This has to be the worst product trying to pas...  \n",
       "2    Can't rate this stuff highly enough, does as a...  \n",
       "3    These where great couldnt stop eating them.<br...  \n",
       "4    Thank god amazon gave me my money back and I o...  \n",
       "..                                                 ...  \n",
       "995  My lil pup loves his treats! Recently when I w...  \n",
       "996  Like many parents, I was shocked to hear today...  \n",
       "997  I have had all of the various Keurigs since th...  \n",
       "998  I've tried every flavor of Betty Lou's Gluten ...  \n",
       "999  My cats love this and the ones with sensitive ...  \n",
       "\n",
       "[1000 rows x 10 columns]"
      ]
     },
     "execution_count": 9,
     "metadata": {},
     "output_type": "execute_result"
    }
   ],
   "source": [
    "df"
   ]
  },
  {
   "cell_type": "code",
   "execution_count": 10,
   "id": "aedd3dd0",
   "metadata": {},
   "outputs": [
    {
     "data": {
      "text/plain": [
       "pandas.core.frame.DataFrame"
      ]
     },
     "execution_count": 10,
     "metadata": {},
     "output_type": "execute_result"
    }
   ],
   "source": [
    "type(df)"
   ]
  },
  {
   "cell_type": "markdown",
   "id": "39d2900f",
   "metadata": {},
   "source": [
    "### Panels"
   ]
  },
  {
   "cell_type": "markdown",
   "id": "65a4acf3",
   "metadata": {},
   "source": [
    "Panels are 3 dimesional data represented through Pandas"
   ]
  },
  {
   "cell_type": "markdown",
   "id": "7868fe6a",
   "metadata": {},
   "source": [
    "## Accessing Multiple elements from a DataFrame"
   ]
  },
  {
   "cell_type": "code",
   "execution_count": 11,
   "id": "d8b0edfe",
   "metadata": {},
   "outputs": [
    {
     "data": {
      "text/html": [
       "<div>\n",
       "<style scoped>\n",
       "    .dataframe tbody tr th:only-of-type {\n",
       "        vertical-align: middle;\n",
       "    }\n",
       "\n",
       "    .dataframe tbody tr th {\n",
       "        vertical-align: top;\n",
       "    }\n",
       "\n",
       "    .dataframe thead th {\n",
       "        text-align: right;\n",
       "    }\n",
       "</style>\n",
       "<table border=\"1\" class=\"dataframe\">\n",
       "  <thead>\n",
       "    <tr style=\"text-align: right;\">\n",
       "      <th></th>\n",
       "      <th>Id</th>\n",
       "      <th>ProductId</th>\n",
       "    </tr>\n",
       "  </thead>\n",
       "  <tbody>\n",
       "    <tr>\n",
       "      <th>0</th>\n",
       "      <td>59033</td>\n",
       "      <td>B002HQLY7S</td>\n",
       "    </tr>\n",
       "    <tr>\n",
       "      <th>1</th>\n",
       "      <td>514838</td>\n",
       "      <td>B007IVEP8C</td>\n",
       "    </tr>\n",
       "    <tr>\n",
       "      <th>2</th>\n",
       "      <td>419751</td>\n",
       "      <td>B0029ZAOW8</td>\n",
       "    </tr>\n",
       "    <tr>\n",
       "      <th>3</th>\n",
       "      <td>870</td>\n",
       "      <td>B000VKYKTG</td>\n",
       "    </tr>\n",
       "    <tr>\n",
       "      <th>4</th>\n",
       "      <td>282582</td>\n",
       "      <td>B001EO5WZ4</td>\n",
       "    </tr>\n",
       "    <tr>\n",
       "      <th>...</th>\n",
       "      <td>...</td>\n",
       "      <td>...</td>\n",
       "    </tr>\n",
       "    <tr>\n",
       "      <th>995</th>\n",
       "      <td>65930</td>\n",
       "      <td>B0007A0AQW</td>\n",
       "    </tr>\n",
       "    <tr>\n",
       "      <th>996</th>\n",
       "      <td>465157</td>\n",
       "      <td>B0019H0YZ4</td>\n",
       "    </tr>\n",
       "    <tr>\n",
       "      <th>997</th>\n",
       "      <td>393049</td>\n",
       "      <td>B003VXL0V6</td>\n",
       "    </tr>\n",
       "    <tr>\n",
       "      <th>998</th>\n",
       "      <td>79165</td>\n",
       "      <td>B0046HCH5Y</td>\n",
       "    </tr>\n",
       "    <tr>\n",
       "      <th>999</th>\n",
       "      <td>430883</td>\n",
       "      <td>B001EQ4ZTG</td>\n",
       "    </tr>\n",
       "  </tbody>\n",
       "</table>\n",
       "<p>1000 rows × 2 columns</p>\n",
       "</div>"
      ],
      "text/plain": [
       "         Id   ProductId\n",
       "0     59033  B002HQLY7S\n",
       "1    514838  B007IVEP8C\n",
       "2    419751  B0029ZAOW8\n",
       "3       870  B000VKYKTG\n",
       "4    282582  B001EO5WZ4\n",
       "..      ...         ...\n",
       "995   65930  B0007A0AQW\n",
       "996  465157  B0019H0YZ4\n",
       "997  393049  B003VXL0V6\n",
       "998   79165  B0046HCH5Y\n",
       "999  430883  B001EQ4ZTG\n",
       "\n",
       "[1000 rows x 2 columns]"
      ]
     },
     "execution_count": 11,
     "metadata": {},
     "output_type": "execute_result"
    }
   ],
   "source": [
    "df[['Id','ProductId']]"
   ]
  },
  {
   "cell_type": "code",
   "execution_count": 12,
   "id": "167365c8",
   "metadata": {},
   "outputs": [
    {
     "data": {
      "text/plain": [
       "pandas.core.frame.DataFrame"
      ]
     },
     "execution_count": 12,
     "metadata": {},
     "output_type": "execute_result"
    }
   ],
   "source": [
    "type(df[['Id','ProductId']])"
   ]
  },
  {
   "cell_type": "code",
   "execution_count": null,
   "id": "56ba4525",
   "metadata": {},
   "outputs": [],
   "source": []
  }
 ],
 "metadata": {
  "kernelspec": {
   "display_name": "Python 3 (ipykernel)",
   "language": "python",
   "name": "python3"
  },
  "language_info": {
   "codemirror_mode": {
    "name": "ipython",
    "version": 3
   },
   "file_extension": ".py",
   "mimetype": "text/x-python",
   "name": "python",
   "nbconvert_exporter": "python",
   "pygments_lexer": "ipython3",
   "version": "3.9.13"
  }
 },
 "nbformat": 4,
 "nbformat_minor": 5
}
